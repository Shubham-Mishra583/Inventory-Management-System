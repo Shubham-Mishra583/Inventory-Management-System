{
 "cells": [
  {
   "cell_type": "code",
   "execution_count": null,
   "id": "33b90e75",
   "metadata": {},
   "outputs": [
    {
     "name": "stdout",
     "output_type": "stream",
     "text": [
      "***List of products present in the record***\n",
      "\n",
      "Product ID:  5401  Name:  Dairy Milk\n",
      "Product ID:  5402  Name:  Original Oreo\n",
      "Product ID:  5403  Name:  Lays Classic\n",
      "Product ID:  5404  Name:  Tata Salt Plus\n",
      "Product ID:  5405  Name:  Bajaj Sugar\n",
      "Product ID:  5406  Name:  Dawaat Basmati Rice\n",
      "Product ID:  5407  Name:  Yippe Pasta\n",
      "Product ID:  5408  Name:  Pure Baking Soda\n",
      "Product ID:  5409  Name:  Premium Kachi Ghani Mustard Oil\n",
      "Product ID:  5410  Name:  Vegetable Soup\n",
      "Product ID:  5411  Name:  Baked Beans\n",
      "Product ID:  5412  Name:  Whole Wheat Flour\n",
      "Product ID:  5413  Name:  White Oats\n",
      "Product ID:  5414  Name:  Colgate Max Fresh\n",
      "Product ID:  5415  Name:  Plax Mouthwash\n",
      "Product ID:  5416  Name:  Philips Led Bulb\n",
      "Product ID:  5417  Name:  Exide Xpress Battery\n",
      "Product ID:  5418  Name:  Cotton Towel\n",
      "Product ID:  5419  Name:  Eggs\n",
      "Product ID:  5420  Name:  Pasteurised Butter\n",
      "Product ID:  5421  Name:  Amul Gold Milk\n",
      "Product ID:  5422  Name:  Natural Yogurt\n",
      "Product ID:  5423  Name:  Fresh Tomato Ketchup\n",
      "Product ID:  5424  Name:  Fruit Bread\n",
      "Product ID:  5425  Name:  Black Pepper Organic\n",
      "Product ID:  5426  Name:  Melody Chocolaty\n",
      "Product ID:  5427  Name:  Chocochip Cookies\n",
      "Product ID:  5428  Name:  Mixed Fruit Jam\n",
      "Product ID:  5429  Name:  Processed Cheese\n",
      "Product ID:  5430  Name:  Mixed Pickle\n",
      "\n",
      "\n"
     ]
    }
   ],
   "source": [
    "import json\n",
    "\n",
    "#Opening Record.json\n",
    "Data = open(\"Record.json\",\"r\")\n",
    "file = Data.read()\n",
    "Data.close()\n",
    "record = json.loads(file)\n",
    "\n",
    "#Displaying List of Products (Only Product ID and Names)\n",
    "print(\"***List of products present in the record***\\n\")\n",
    "for a in record:\n",
    "    print(\"Product ID: \",a ,\" Name: \",record[a][\"Name\"])\n",
    "print(\"\\n\")    \n",
    "\n",
    "sales = {} #Empty Dictionary to store purchased product data \n",
    "\n",
    "n = int(input(\"\\n Enter Your Choice\\n 1. Enter 1 to Purchase Product \\n 2. Enter -1 to Exit \\n\\n\"))\n",
    "while(n!=-1):\n",
    "    \n",
    "    Product_id = input(\"\\nEnter the product id: \")\n",
    "    print(\"Product Name: \",record[Product_id][\"Name\"])\n",
    "    print(\"Product Price: \",record[Product_id][\"Price\"])\n",
    "    print(\"Available Quantity: \",record[Product_id][\"Quantity\"])\n",
    "    Product_qty = int(input(\"Enter the product quantity: \"))\n",
    "\n",
    "\n",
    "    if(Product_qty <= record[Product_id][\"Quantity\"]):\n",
    "        print(\"Total Amount: \",record[Product_id][\"Price\"]*Product_qty)\n",
    "    else:\n",
    "        print(\"Not enoungh available stock\")\n",
    "    \n",
    "    #Decreasing the quantity of purchased product   \n",
    "    record[Product_id][\"Quantity\"] = record[Product_id][\"Quantity\"] - Product_qty \n",
    "    \n",
    "    #Adding purchased product data to sales dictionary\n",
    "    sales[7201+len(sales)] = {\"Name\": record[Product_id][\"Name\"],\"Quantity\": Product_qty, \"Total Amount\": record[Product_id][\"Price\"]*Product_qty}\n",
    "    \n",
    "    n = int(input(\"\\n Enter Your Choice\\n 1. Enter 1 to Continue \\n 2. Enter -1 to Exit \\n\\n\"))\n",
    "\n",
    "#Updating Record.json    \n",
    "record = json.dumps(record)\n",
    "NewRecord = open(\"Record.json\",\"w\")\n",
    "NewRecord.write(record)\n",
    "NewRecord.close()\n",
    "\n",
    "#Creating Sales.json\n",
    "sales = json.dumps(sales)    \n",
    "NewData = open(\"Sales.json\",\"w\")\n",
    "NewData.write(sales)\n",
    "NewData.close()"
   ]
  },
  {
   "cell_type": "code",
   "execution_count": 15,
   "id": "6a052a9e",
   "metadata": {},
   "outputs": [
    {
     "data": {
      "text/plain": [
       "'{\"7201\": {\"Name\": \"Dairy Milk\", \"Quantity\": 5, \"Total Amount\": 25}}'"
      ]
     },
     "execution_count": 15,
     "metadata": {},
     "output_type": "execute_result"
    }
   ],
   "source": [
    "sales\n"
   ]
  },
  {
   "cell_type": "code",
   "execution_count": null,
   "id": "05fd05cf",
   "metadata": {},
   "outputs": [],
   "source": []
  },
  {
   "cell_type": "code",
   "execution_count": null,
   "id": "2aef4433",
   "metadata": {},
   "outputs": [],
   "source": []
  }
 ],
 "metadata": {
  "kernelspec": {
   "display_name": "Python 3",
   "language": "python",
   "name": "python3"
  },
  "language_info": {
   "codemirror_mode": {
    "name": "ipython",
    "version": 3
   },
   "file_extension": ".py",
   "mimetype": "text/x-python",
   "name": "python",
   "nbconvert_exporter": "python",
   "pygments_lexer": "ipython3",
   "version": "3.8.8"
  }
 },
 "nbformat": 4,
 "nbformat_minor": 5
}
