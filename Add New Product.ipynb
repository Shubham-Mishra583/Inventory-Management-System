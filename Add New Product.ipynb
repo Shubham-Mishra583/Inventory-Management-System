{
 "cells": [
  {
   "cell_type": "code",
   "execution_count": null,
   "id": "c3f9ad40",
   "metadata": {},
   "outputs": [],
   "source": [
    "import json\n",
    "\n",
    "#Opening Record.json\n",
    "Data = open(\"Record.json\",\"r\")\n",
    "file = Data.read()\n",
    "Data.close()\n",
    "record = json.loads(file)\n",
    "\n",
    "#Displaying List of Products (Only Product ID and Names)\n",
    "print(\"***List of products present in the record***\\n\")\n",
    "for a in record:\n",
    "    print(\"Product ID: \",a ,\" Name: \",record[a][\"Name\"])\n",
    "print(\"\\n\")    \n",
    "\n",
    "\n",
    "n = int(input(\"\\n Enter Your Choice\\n 1. Enter 1 to add new product \\n 2. Enter -1 to Exit \\n\\n\"))\n",
    "while(n!=-1):\n",
    "    Product_id = int(input(\"\\nEnter Product Id \"))\n",
    "    Product_name = input(\"Enter Product name \")\n",
    "    Product_qty = int(input(\"Enter Product qty \"))\n",
    "    Product_price = int(input(\"Enter Product price \"))\n",
    "    Product_category = (input(\"Enter Product category \"))\n",
    "    Product_brand = input(\"Enter Product brand \")\n",
    "\n",
    "    #Code to increase the quantity if product is already present\n",
    "    for ID in record: \n",
    "        if(Product_name == record[ID][\"Name\"]):   #Checking if the product is already present or not\n",
    "            record[ID][\"Quantity\"] = record[ID][\"Quantity\"] + Product_qty  #Increase the quantity if product is already present\n",
    "            break\n",
    "\n",
    "    for NewID in record: #Iterating till last Product ID\n",
    "        pass       \n",
    "\n",
    "    #Code to add new product to the record  \n",
    "    if(ID == NewID):  \n",
    "        if(Product_name == record[ID][\"Name\"]): #Checking if last product in the record is same as the product entered by user \n",
    "            pass                                \n",
    "        \n",
    "        else:  #add new product to the record  \n",
    "            record[Product_id] = {\"Name\":Product_name,\"Quantity\": Product_qty, \"Price\": Product_price,\"Category\": Product_category,\"Brand\":Product_brand}\n",
    "        \n",
    "    n = int(input(\"\\n Enter Your Choice\\n 1. Enter 1 to add new product \\n 2. Enter -1 to Exit \\n\\n\"))\n",
    "        \n",
    "#Updating Record.json    \n",
    "record = json.dumps(record)\n",
    "NewRecord = open(\"Record.json\",\"w\")\n",
    "NewRecord.write(record)\n",
    "NewRecord.close()"
   ]
  }
 ],
 "metadata": {
  "kernelspec": {
   "display_name": "Python 3",
   "language": "python",
   "name": "python3"
  },
  "language_info": {
   "codemirror_mode": {
    "name": "ipython",
    "version": 3
   },
   "file_extension": ".py",
   "mimetype": "text/x-python",
   "name": "python",
   "nbconvert_exporter": "python",
   "pygments_lexer": "ipython3",
   "version": "3.8.8"
  }
 },
 "nbformat": 4,
 "nbformat_minor": 5
}
