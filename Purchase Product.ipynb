{
 "cells": [
  {
   "cell_type": "code",
   "execution_count": null,
   "id": "0fd8a09c",
   "metadata": {},
   "outputs": [],
   "source": [
    "import json\n",
    "\n",
    "#Opening Record.json\n",
    "Data = open(\"Record.json\",\"r\")\n",
    "file = Data.read()\n",
    "Data.close()\n",
    "record = json.loads(file)\n",
    "\n",
    "#Displaying List of Products (Only Product ID and Names)\n",
    "print(\"***List of products present in the record***\\n\")\n",
    "for a in record:\n",
    "    print(\"Product ID: \",a ,\" Name: \",record[a][\"Name\"])\n",
    "print(\"\\n\")    \n",
    "\n",
    "#Opening Sales.json\n",
    "sales_Data = open(\"Sales.json\",\"r\")\n",
    "sales_file = sales_Data.read()\n",
    "sales_Data.close()\n",
    "sales = json.loads(sales_file)    \n",
    "    \n",
    "n = int(input(\"\\n Enter Your Choice\\n 1. Enter 1 to Purchase Product \\n 2. Enter -1 to Exit \\n\\n\"))\n",
    "while(n!=-1):\n",
    "    \n",
    "    Product_id = input(\"\\nEnter the product id: \")\n",
    "    print(\"Product Name: \",record[Product_id][\"Name\"])\n",
    "    print(\"Product Price: \",record[Product_id][\"Price\"])\n",
    "    print(\"Available Quantity: \",record[Product_id][\"Quantity\"])\n",
    "    Product_qty = int(input(\"Enter the product quantity: \"))\n",
    "\n",
    "    #Checking if enough quantity is present or not\n",
    "    if(Product_qty <= record[Product_id][\"Quantity\"]):\n",
    "        print(\"Total Amount: \",record[Product_id][\"Price\"]*Product_qty)\n",
    "        \n",
    "        #Decreasing the quantity of purchased product\n",
    "        record[Product_id][\"Quantity\"] = record[Product_id][\"Quantity\"] - Product_qty \n",
    "        \n",
    "        #Adding purchased product data to sales dictionary\n",
    "        sales[7201+len(sales)] = {\"Name\": record[Product_id][\"Name\"],\"Quantity\": Product_qty, \"Total Amount\": record[Product_id][\"Price\"]*Product_qty}\n",
    "    else:\n",
    "        print(\"Not enoungh available stock\")\n",
    "    \n",
    "           \n",
    "    n = int(input(\"\\n Enter Your Choice\\n 1. Enter 1 to Continue \\n 2. Enter -1 to Exit \\n\\n\"))\n",
    "\n",
    "#Updating Record.json    \n",
    "NewRecord = json.dumps(record)\n",
    "NewFile = open(\"Record.json\",\"w\")\n",
    "NewFile.write(NewRecord)\n",
    "NewFile.close()\n",
    "\n",
    "#Updating Sales.json\n",
    "sales = json.dumps(sales)    \n",
    "NewData = open(\"Sales.json\",\"w\")\n",
    "NewData.write(sales)\n",
    "NewData.close()"
   ]
  }
 ],
 "metadata": {
  "kernelspec": {
   "display_name": "Python 3",
   "language": "python",
   "name": "python3"
  },
  "language_info": {
   "codemirror_mode": {
    "name": "ipython",
    "version": 3
   },
   "file_extension": ".py",
   "mimetype": "text/x-python",
   "name": "python",
   "nbconvert_exporter": "python",
   "pygments_lexer": "ipython3",
   "version": "3.8.8"
  }
 },
 "nbformat": 4,
 "nbformat_minor": 5
}
