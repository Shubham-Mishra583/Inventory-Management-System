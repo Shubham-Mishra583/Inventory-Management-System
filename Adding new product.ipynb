{
 "cells": [
  {
   "cell_type": "code",
   "execution_count": 4,
   "id": "dcca9535",
   "metadata": {},
   "outputs": [
    {
     "name": "stdout",
     "output_type": "stream",
     "text": [
      "***List of products present in the record***\n",
      "\n",
      "Product ID:  5401  Name:  Dairy Milk\n",
      "Product ID:  5402  Name:  Original Oreo\n",
      "Product ID:  5403  Name:  Lays Classic\n",
      "Product ID:  5404  Name:  Tata Salt Plus\n",
      "Product ID:  5405  Name:  Bajaj Sugar\n",
      "Product ID:  5406  Name:  Dawaat Basmati Rice\n",
      "Product ID:  5407  Name:  Yippe Pasta\n",
      "Product ID:  5408  Name:  Pure Baking Soda\n",
      "Product ID:  5409  Name:  Premium Kachi Ghani Mustard Oil\n",
      "Product ID:  5410  Name:  Vegetable Soup\n",
      "Product ID:  5411  Name:  Baked Beans\n",
      "Product ID:  5412  Name:  Whole Wheat Flour\n",
      "Product ID:  5413  Name:  White Oats\n",
      "Product ID:  5414  Name:  Colgate Max Fresh\n",
      "Product ID:  5415  Name:  Plax Mouthwash\n",
      "Product ID:  5416  Name:  Philips Led Bulb\n",
      "Product ID:  5417  Name:  Exide Xpress Battery\n",
      "Product ID:  5418  Name:  Cotton Towel\n",
      "Product ID:  5419  Name:  Eggs\n",
      "Product ID:  5420  Name:  Pasteurised Butter\n",
      "Product ID:  5421  Name:  Amul Gold Milk\n",
      "Product ID:  5422  Name:  Natural Yogurt\n",
      "Product ID:  5423  Name:  Fresh Tomato Ketchup\n",
      "Product ID:  5424  Name:  Fruit Bread\n",
      "Product ID:  5425  Name:  Black Pepper Organic\n",
      "Product ID:  5426  Name:  Melody Chocolaty\n",
      "Product ID:  5427  Name:  Chocochip Cookies\n",
      "Product ID:  5428  Name:  Mixed Fruit Jam\n",
      "Product ID:  5429  Name:  Processed Cheese\n",
      "Product ID:  5430  Name:  Mixed Pickle\n",
      "Product ID:  5431  Name:  asd\n",
      "\n",
      "\n",
      "\n",
      " Enter Your Choice\n",
      " 1. Enter 1 to add new product \n",
      " 2. Enter -1 to Exit \n",
      "\n",
      "1\n",
      "\n",
      "Enter Product Id 5432\n",
      "Enter Product name qwe\n",
      "Enter Product qty 23\n",
      "Enter Product price 123\n",
      "Enter Product category dsa\n",
      "Enter Product brand we\n",
      "\n",
      " Enter Your Choice\n",
      " 1. Enter 1 to add new product \n",
      " 2. Enter -1 to Exit \n",
      "\n",
      "-1\n"
     ]
    }
   ],
   "source": [
    "import json\n",
    "\n",
    "#Opening Record.json\n",
    "Data = open(\"Record.json\",\"r\")\n",
    "file = Data.read()\n",
    "Data.close()\n",
    "record = json.loads(file)\n",
    "\n",
    "#Displaying List of Products (Only Product ID and Names)\n",
    "print(\"***List of products present in the record***\\n\")\n",
    "for a in record:\n",
    "    print(\"Product ID: \",a ,\" Name: \",record[a][\"Name\"])\n",
    "print(\"\\n\")    \n",
    "\n",
    "\n",
    "n = int(input(\"\\n Enter Your Choice\\n 1. Enter 1 to add new product \\n 2. Enter -1 to Exit \\n\\n\"))\n",
    "while(n!=-1):\n",
    "    Product_id = int(input(\"\\nEnter Product Id \"))\n",
    "    Product_name = input(\"Enter Product name \")\n",
    "    Product_qty = int(input(\"Enter Product qty \"))\n",
    "    Product_price = int(input(\"Enter Product price \"))\n",
    "    Product_category = (input(\"Enter Product category \"))\n",
    "    Product_brand = input(\"Enter Product brand \")\n",
    "\n",
    "    #Code to increase the quantity if product is already present\n",
    "    for ID in record: \n",
    "        if(Product_name == record[ID][\"Name\"]):   #Checking if the product is already present or not\n",
    "            record[ID][\"Quantity\"] = record[ID][\"Quantity\"] + Product_qty  #Increase the quantity if product is already present\n",
    "            break\n",
    "\n",
    "    for NewID in record: #Iterating till last Product ID\n",
    "        pass       \n",
    "\n",
    "    #Code to add new product to the record  \n",
    "    if(ID == NewID):  \n",
    "        if(Product_name == record[ID][\"Name\"]): #Checking if last product in the record is same as the product entered by user \n",
    "            pass                                \n",
    "        \n",
    "        else:  #add new product to the record  \n",
    "            record[Product_id] = {\"Name\":Product_name,\"Quantity\": Product_qty, \"Price\": Product_price,\"Category\": Product_category,\"Brand\":Product_brand}\n",
    "        \n",
    "    n = int(input(\"\\n Enter Your Choice\\n 1. Enter 1 to add new product \\n 2. Enter -1 to Exit \\n\\n\"))\n",
    "        \n",
    "#Updating Record.json    \n",
    "record = json.dumps(record)\n",
    "NewRecord = open(\"Record.json\",\"w\")\n",
    "NewRecord.write(record)\n",
    "NewRecord.close()"
   ]
  },
  {
   "cell_type": "code",
   "execution_count": 5,
   "id": "3f8fc6f3",
   "metadata": {},
   "outputs": [
    {
     "name": "stdout",
     "output_type": "stream",
     "text": [
      "{\"5401\": {\"Name\": \"Dairy Milk\", \"Quantity\": 30, \"Price\": 5, \"Category\": \"Chocolate\", \"Brand\": \"Cadbury\"}, \"5402\": {\"Name\": \"Original Oreo\", \"Quantity\": 35, \"Price\": 35, \"Category\": \"Biscuit \", \"Brand\": \"Cadbury\"}, \"5403\": {\"Name\": \"Lays Classic\", \"Quantity\": 36, \"Price\": 10, \"Category\": \"Chips \", \"Brand\": \"Lays\"}, \"5404\": {\"Name\": \"Tata Salt Plus\", \"Quantity\": 40, \"Price\": 20, \"Category\": \"Salt\", \"Brand\": \"Tata\"}, \"5405\": {\"Name\": \"Bajaj Sugar\", \"Quantity\": 40, \"Price\": 40, \"Category\": \"Sugar\", \"Brand\": \"Baja\"}, \"5406\": {\"Name\": \"Dawaat Basmati Rice\", \"Quantity\": 42, \"Price\": 700, \"Category\": \"Rice\", \"Brand\": \"Dawaat\"}, \"5407\": {\"Name\": \"Yippe Pasta\", \"Quantity\": 36, \"Price\": 80, \"Category\": \"Pasta\", \"Brand\": \"Sunfeast\"}, \"5408\": {\"Name\": \"Pure Baking Soda\", \"Quantity\": 35, \"Price\": 95, \"Category\": \"Baking Soda\", \"Brand\": \"Purix\"}, \"5409\": {\"Name\": \"Premium Kachi Ghani Mustard Oil\", \"Quantity\": 45, \"Price\": 60, \"Category\": \"Mustard Oil\", \"Brand\": \"Fortune\"}, \"5410\": {\"Name\": \"Vegetable Soup\", \"Quantity\": 33, \"Price\": 20, \"Category\": \"Soup\", \"Brand\": \"Knorr\"}, \"5411\": {\"Name\": \"Baked Beans\", \"Quantity\": 43, \"Price\": 150, \"Category\": \"Beans\", \"Brand\": \"Heinz\"}, \"5412\": {\"Name\": \"Whole Wheat Flour\", \"Quantity\": 50, \"Price\": 330, \"Category\": \"Flour\", \"Brand\": \"Aashirvaad\"}, \"5413\": {\"Name\": \"White Oats\", \"Quantity\": 42, \"Price\": 280, \"Category\": \"Oats\", \"Brand\": \"Quaker\"}, \"5414\": {\"Name\": \"Colgate Max Fresh\", \"Quantity\": 30, \"Price\": 40, \"Category\": \"Toothpaste\", \"Brand\": \"Colgate\"}, \"5415\": {\"Name\": \"Plax Mouthwash\", \"Quantity\": 38, \"Price\": 80, \"Category\": \"Mouthwash\", \"Brand\": \"Colgate\"}, \"5416\": {\"Name\": \"Philips Led Bulb\", \"Quantity\": 40, \"Price\": 100, \"Category\": \"Led Bulb\", \"Brand\": \"Philips\"}, \"5417\": {\"Name\": \"Exide Xpress Battery\", \"Quantity\": 43, \"Price\": 5000, \"Category\": \"Battery\", \"Brand\": \"Exide\"}, \"5418\": {\"Name\": \"Cotton Towel\", \"Quantity\": 38, \"Price\": 150, \"Category\": \"Towel\", \"Brand\": \"Haber\"}, \"5419\": {\"Name\": \"Eggs\", \"Quantity\": 40, \"Price\": 36, \"Category\": \"Eggs\", \"Brand\": \"Best\"}, \"5420\": {\"Name\": \"Pasteurised Butter\", \"Quantity\": 40, \"Price\": 48, \"Category\": \"Butter\", \"Brand\": \"Amul\"}, \"5421\": {\"Name\": \"Amul Gold Milk\", \"Quantity\": 50, \"Price\": 57, \"Category\": \"Milk\", \"Brand\": \"Amul\"}, \"5422\": {\"Name\": \"Natural Yogurt\", \"Quantity\": 39, \"Price\": 50, \"Category\": \"Yogurt\", \"Brand\": \"Nestle\"}, \"5423\": {\"Name\": \"Fresh Tomato Ketchup\", \"Quantity\": 40, \"Price\": 100, \"Category\": \"Ketchup\", \"Brand\": \"Kissan\"}, \"5424\": {\"Name\": \"Fruit Bread\", \"Quantity\": 35, \"Price\": 30, \"Category\": \"Bread\", \"Brand\": \"Britannia\"}, \"5425\": {\"Name\": \"Black Pepper Organic\", \"Quantity\": 45, \"Price\": 20, \"Category\": \"Black Pepper\", \"Brand\": \"Tattva\"}, \"5426\": {\"Name\": \"Melody Chocolaty\", \"Quantity\": 50, \"Price\": 20, \"Category\": \"Candy\", \"Brand\": \"Parle\"}, \"5427\": {\"Name\": \"Chocochip Cookies\", \"Quantity\": 43, \"Price\": 30, \"Category\": \"Cookies\", \"Brand\": \"Britannia\"}, \"5428\": {\"Name\": \"Mixed Fruit Jam\", \"Quantity\": 34, \"Price\": 50, \"Category\": \"Jam\", \"Brand\": \"Kissan\"}, \"5429\": {\"Name\": \"Processed Cheese\", \"Quantity\": 40, \"Price\": 130, \"Category\": \"Cheese\", \"Brand\": \"Amul\"}, \"5430\": {\"Name\": \"Mixed Pickle\", \"Quantity\": 50, \"Price\": 85, \"Category\": \"Pickle\", \"Brand\": \"Haldiram\"}, \"5431\": {\"Name\": \"asd\", \"Quantity\": 23, \"Price\": 12, \"Category\": \"d\", \"Brand\": \"e\"}, \"5432\": {\"Name\": \"qwe\", \"Quantity\": 23, \"Price\": 123, \"Category\": \"dsa\", \"Brand\": \"we\"}}\n"
     ]
    }
   ],
   "source": [
    "print(record)"
   ]
  },
  {
   "cell_type": "code",
   "execution_count": null,
   "id": "a48edf91",
   "metadata": {},
   "outputs": [],
   "source": []
  },
  {
   "cell_type": "code",
   "execution_count": null,
   "id": "6da5a021",
   "metadata": {},
   "outputs": [],
   "source": []
  }
 ],
 "metadata": {
  "kernelspec": {
   "display_name": "Python 3",
   "language": "python",
   "name": "python3"
  },
  "language_info": {
   "codemirror_mode": {
    "name": "ipython",
    "version": 3
   },
   "file_extension": ".py",
   "mimetype": "text/x-python",
   "name": "python",
   "nbconvert_exporter": "python",
   "pygments_lexer": "ipython3",
   "version": "3.8.8"
  }
 },
 "nbformat": 4,
 "nbformat_minor": 5
}
